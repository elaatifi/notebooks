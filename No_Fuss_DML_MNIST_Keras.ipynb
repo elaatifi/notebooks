{
 "cells": [
  {
   "cell_type": "markdown",
   "metadata": {},
   "source": [
    "# No Fuss DML\n",
    "\n",
    "Implementation of NCA Loss for Distance metric learning using Keras form : https://arxiv.org/pdf/1703.07464.pdf\n",
    "Already applied it to various datasets, found it very useful especially when it's hard to mine hard negatives or triplets size is outrageously large.\n",
    "\n",
    "The technique can produce high quality embeddings"
   ]
  },
  {
   "cell_type": "code",
   "execution_count": 1,
   "metadata": {
    "collapsed": false
   },
   "outputs": [
    {
     "name": "stderr",
     "output_type": "stream",
     "text": [
      "Using TensorFlow backend.\n"
     ]
    }
   ],
   "source": [
    "import keras\n",
    "from keras.datasets import mnist\n",
    "from keras.models import Model\n",
    "from keras.layers import Dense, Dropout, Flatten, Input, Reshape, Lambda, BatchNormalization\n",
    "from keras.layers import Conv2D, MaxPooling2D\n",
    "from keras.optimizers import RMSprop\n",
    "from keras.layers.embeddings import Embedding\n",
    "from keras import backend as K\n",
    "import numpy as np\n",
    "from keras_tqdm import TQDMNotebookCallback"
   ]
  },
  {
   "cell_type": "code",
   "execution_count": 10,
   "metadata": {
    "collapsed": true
   },
   "outputs": [],
   "source": [
    "img_rows, img_cols = 28, 28\n",
    "batch_size = 128\n",
    "num_classes = 10\n",
    "epochs = 5\n",
    "embedding_size = 64\n",
    "vis_sample_size = 100"
   ]
  },
  {
   "cell_type": "markdown",
   "metadata": {},
   "source": [
    "the data, shuffled and split between train and test sets"
   ]
  },
  {
   "cell_type": "code",
   "execution_count": 3,
   "metadata": {
    "collapsed": true
   },
   "outputs": [],
   "source": [
    "(x_train, y_train), (x_test, y_test) = mnist.load_data()"
   ]
  },
  {
   "cell_type": "markdown",
   "metadata": {},
   "source": [
    "Pre process data"
   ]
  },
  {
   "cell_type": "code",
   "execution_count": 4,
   "metadata": {
    "collapsed": false
   },
   "outputs": [
    {
     "name": "stdout",
     "output_type": "stream",
     "text": [
      "('x_train shape:', (60000, 28, 28, 1))\n",
      "(60000, 'train samples')\n",
      "(10000, 'test samples')\n"
     ]
    }
   ],
   "source": [
    "if K.image_data_format() == 'channels_first':\n",
    "    x_train = x_train.reshape(x_train.shape[0], 1, img_rows, img_cols)\n",
    "    x_test = x_test.reshape(x_test.shape[0], 1, img_rows, img_cols)\n",
    "    input_shape = (1, img_rows, img_cols)\n",
    "else:\n",
    "    x_train = x_train.reshape(x_train.shape[0], img_rows, img_cols, 1)\n",
    "    x_test = x_test.reshape(x_test.shape[0], img_rows, img_cols, 1)\n",
    "    input_shape = (img_rows, img_cols, 1)\n",
    "\n",
    "x_train = x_train.astype('float32')\n",
    "x_test = x_test.astype('float32')\n",
    "x_train /= 255\n",
    "x_test /= 255\n",
    "print('x_train shape:', x_train.shape)\n",
    "print(x_train.shape[0], 'train samples')\n",
    "print(x_test.shape[0], 'test samples')"
   ]
  },
  {
   "cell_type": "markdown",
   "metadata": {},
   "source": [
    "## Model\n",
    "\n",
    "We will have two models one for training, the other to compute the embeddings (the useful one; just diffirent inputs/outputs and without proxy_layer)"
   ]
  },
  {
   "cell_type": "code",
   "execution_count": 5,
   "metadata": {
    "collapsed": true
   },
   "outputs": [],
   "source": [
    "inp_x = Input(shape=(28,28,1))\n",
    "inp_y = Input(shape=(1,))\n",
    "\n",
    "# Class proxy\n",
    "proxies_layer = Embedding(num_classes*2, embedding_size, name='emb_proxies', embeddings_initializer=keras.initializers.RandomNormal(mean=0.0, stddev=0.3, seed=7))\n",
    "proxies_output = proxies_layer(inp_y)\n",
    "proxies_output = Reshape((embedding_size,))(proxies_output)\n",
    "\n",
    "# Conv network\n",
    "x = Conv2D(32, kernel_size=(3, 3),\n",
    "        activation='relu',\n",
    "        input_shape=input_shape)(inp_x)\n",
    "x = Conv2D(64, (3, 3), activation='relu')(x)\n",
    "x = MaxPooling2D(pool_size=(2, 2))(x)\n",
    "x = Conv2D(64, (3, 3), activation='relu')(x)\n",
    "x = Conv2D(64, (3, 3), activation='relu')(x)\n",
    "x = MaxPooling2D(pool_size=(2, 2))(x)\n",
    "x = Flatten()(x)\n",
    "x = Dense(128, activation='relu')(x)\n",
    "x = BatchNormalization()(x)\n",
    "emb_img = Dense(embedding_size, activation='linear', name='embedding')(x)\n",
    "\n",
    "#proxies_layer.trainable = False\n",
    "\n",
    "# Training model\n",
    "model = Model(inputs=[inp_x, inp_y], outputs=[emb_img])\n",
    "to_be_used_model = Model(inputs=inp_x, outputs=emb_img)"
   ]
  },
  {
   "cell_type": "markdown",
   "metadata": {},
   "source": [
    "## NCA Loss\n",
    "\n",
    "Maybe there is a more idiomatic way to implement nca loss in Keras/Tensorflow\n",
    "For more details about NCA look at http://www.cs.toronto.edu/~fritz/absps/nca.pdf"
   ]
  },
  {
   "cell_type": "code",
   "execution_count": 6,
   "metadata": {
    "collapsed": true
   },
   "outputs": [],
   "source": [
    "from keras import backend as K\n",
    "import tensorflow as tf\n",
    "\n",
    "def expand_multiple_dims(x, axes, name=\"expand_multiple_dims\"):\n",
    "  with tf.name_scope(name):\n",
    "    for i in sorted(axes):\n",
    "      x = tf.expand_dims(x, axis=i, name=\"expand_axis_%i\" % i)\n",
    "    return x\n",
    "\n",
    "\n",
    "# Theano-like dimshuffle\n",
    "def dimshuffle(x, axes, name=\"dimshuffle\"):\n",
    "  with tf.name_scope(name):\n",
    "    assert all([i == \"x\" or isinstance(i, int) for i in axes])\n",
    "    real_axes = [i for i in axes if isinstance(i, int)]\n",
    "    bc_axes = [i for (i, j) in enumerate(axes) if j == \"x\"]\n",
    "    if x.get_shape().ndims is None:\n",
    "      x_shape = tf.shape(x)\n",
    "      x = tf.reshape(x, [x_shape[i] for i in range(max(real_axes) + 1)])  # will have static ndims\n",
    "    assert x.get_shape().ndims is not None\n",
    "\n",
    "    # First squeeze missing axes.\n",
    "    i = 0\n",
    "    while i < x.get_shape().ndims:\n",
    "      if i not in real_axes:\n",
    "        x = tf.squeeze(x, axis=i)\n",
    "        real_axes = [(j if (j < i) else (j - 1)) for j in real_axes]\n",
    "      else:\n",
    "        i += 1\n",
    "\n",
    "    # Now permute.\n",
    "    assert list(sorted(real_axes)) == list(range(x.get_shape().ndims))\n",
    "    if real_axes != list(range(x.get_shape().ndims)):\n",
    "      x = tf.transpose(x, real_axes)\n",
    "\n",
    "    # Now add broadcast dimensions.\n",
    "    if bc_axes:\n",
    "      x = expand_multiple_dims(x, bc_axes)\n",
    "    assert len(axes) == x.get_shape().ndims\n",
    "    return x\n",
    "\n",
    "def lookup(what, where, default=None):\n",
    "    \"\"\"Return ``where.what`` if what is a string, otherwise what. If not found\n",
    "    return ``default``.\"\"\"\n",
    "    if isinstance(what, (str, unicode)):\n",
    "        res = getattr(where, what, default)\n",
    "    else:\n",
    "        res = what\n",
    "    return res\n",
    "\n",
    "\n",
    "def l2(x, axis=None):    \n",
    "    return tf.norm(x, axis=axis, ord=2, keep_dims=False)\n",
    "\n",
    "def pairwise_diff(X, Y=None):\n",
    "    Y = X if Y is None else Y    \n",
    "    diffs = dimshuffle(K.transpose(X), (1, 0, 'x')) - dimshuffle(K.transpose(Y), ('x', 0, 1))    \n",
    "    return diffs\n",
    "\n",
    "\n",
    "def distance_matrix(X, Y=None, norm=l2):\n",
    "    diff = pairwise_diff(X, Y)\n",
    "    diff = distance_matrix_by_diff(diff, norm=norm)\n",
    "    return diff\n",
    "\n",
    "\n",
    "def distance_matrix_by_diff(diff, norm=l2):\n",
    "    diff = norm(diff, axis=1)\n",
    "    return diff\n",
    "\n",
    "def diagonal(x):\n",
    "    return tf.diag_part(x)\n",
    "\n",
    "def normalize_rowwise(mat):  \n",
    "    with tf.variable_scope(\"normalize_rowwise\"):\n",
    "        return mat / K.reshape(l2(mat,axis=1) + K.epsilon(), [-1,1])\n",
    "\n",
    "def nca_loss(embeddings, proxies_output, proxies_weights): # proxies_weights = proxy embedding raw matrix\n",
    "    \"\"\"Return the NCA loss for No Fuss DML.\n",
    "    For details, we refer you to 'Neighbourhood Component Analysis' by\n",
    "    J Goldberger, S Roweis, G Hinton, R Salakhutdinov (2004).\n",
    "    ----------\n",
    "    \"\"\"    \n",
    "    embeddings_normed = normalize_rowwise(embeddings)    \n",
    "    # Positive distances\n",
    "    target_proxies_normed = normalize_rowwise(proxies_output)        \n",
    "    positive_distances = diagonal(distance_matrix(target_proxies_normed, embeddings_normed))\n",
    "    numerator = K.exp(-positive_distances) \n",
    "    # Negative distances    \n",
    "    proxies_normed = normalize_rowwise(proxies_weights)    \n",
    "    all_distances = distance_matrix(embeddings_normed, proxies_normed)        \n",
    "    denominator = K.sum(K.exp(-all_distances), axis=1) - numerator        \n",
    "    # Compute ratio\n",
    "    loss_vector = -K.log(numerator) / (denominator+K.epsilon())\n",
    "    loss = K.mean(loss_vector)\n",
    "    return loss\n",
    "\n",
    "def loss(y_true, y_pred):\n",
    "    return  nca_loss(y_pred-0*y_true, proxies_output, proxies_layer.embeddings)"
   ]
  },
  {
   "cell_type": "markdown",
   "metadata": {},
   "source": [
    "Compile the model, RMSprop as optimizer"
   ]
  },
  {
   "cell_type": "code",
   "execution_count": 7,
   "metadata": {
    "collapsed": true
   },
   "outputs": [],
   "source": [
    "model.compile(loss=loss,optimizer='adadelta')"
   ]
  },
  {
   "cell_type": "code",
   "execution_count": 8,
   "metadata": {
    "collapsed": false
   },
   "outputs": [
    {
     "name": "stdout",
     "output_type": "stream",
     "text": [
      "\n"
     ]
    },
    {
     "data": {
      "text/plain": [
       "<keras.callbacks.History at 0x7f387b20e8d0>"
      ]
     },
     "execution_count": 8,
     "metadata": {},
     "output_type": "execute_result"
    }
   ],
   "source": [
    "model.fit([x_train, y_train], np.zeros((x_train.shape[0],1)),\n",
    "          epochs=epochs,\n",
    "          verbose=0,\n",
    "          validation_data=([x_test, y_test], np.zeros((x_test.shape[0],1))),\n",
    "          batch_size=batch_size,\n",
    "          callbacks=[TQDMNotebookCallback(leave_inner=False)])"
   ]
  },
  {
   "cell_type": "markdown",
   "metadata": {
    "collapsed": true
   },
   "source": [
    "## Visualization\n",
    "\n",
    "Project produced embeddings on 2D plan using T-SNE, you can also use TensorBoard faster T-SNE a possibility to visualize in 3D\n",
    "\n",
    "Please this function will sample randomly a `vis_sample_size` points from test data. So yeah ! every time you will have different plot.\n",
    "\n",
    "(If it's not already done, please do yourself a favor and go read about t-sne https://distill.pub/2016/misread-tsne/)"
   ]
  },
  {
   "cell_type": "code",
   "execution_count": 16,
   "metadata": {
    "collapsed": false
   },
   "outputs": [
    {
     "data": {
      "image/png": "[encoded data removed]",
      "text/plain": [
       "<matplotlib.figure.Figure at 0x7f37fd1b4c50>"
      ]
     },
     "metadata": {},
     "output_type": "display_data"
    }
   ],
   "source": [
    "from sklearn.manifold import TSNE\n",
    "from matplotlib.pyplot import cm\n",
    "import scipy as sp\n",
    "from scipy import ndimage\n",
    "from scipy import misc\n",
    "import matplotlib.pyplot as plt\n",
    "\n",
    "def plot_embeddings(save=None):\n",
    "    colors=cm.rainbow(np.linspace(0,1,num_classes))    \n",
    "    sel = np.random.choice(x_test.shape[0], vis_sample_size, replace=False)\n",
    "    valid_set, valid_labels = x_test[sel,:], y_test[sel]\n",
    "    class_embeddings = np.array(to_be_used_model.predict(valid_set))\n",
    "\n",
    "\n",
    "    class_embeddings = TSNE(n_components=2, perplexity=45, verbose=0, n_iter=5000, learning_rate=10).fit_transform(class_embeddings)\n",
    "\n",
    "    plt.figure(figsize=(18,9))\n",
    "    for cls, color in zip(range(num_classes),colors):\n",
    "        current_points = class_embeddings[valid_labels==cls]\n",
    "        if save is not None:\n",
    "            plt.title('Iteration {}'.format(save))\n",
    "        plt.subplot(121).scatter(current_points[:,0], current_points[:,1],\n",
    "                    c=color, #valid_labels[valid_labels==cls],\n",
    "                    marker='${}$'.format(cls), s=100, linewidths=0.1, edgecolor='black')       \n",
    "    plt.legend()\n",
    "    plt.show()\n",
    "plot_embeddings()"
   ]
  },
  {
   "cell_type": "code",
   "execution_count": null,
   "metadata": {
    "collapsed": true
   },
   "outputs": [],
   "source": []
  },
  {
   "cell_type": "code",
   "execution_count": null,
   "metadata": {
    "collapsed": true
   },
   "outputs": [],
   "source": []
  }
 ],
 "metadata": {
  "kernelspec": {
   "display_name": "Python 2",
   "language": "python",
   "name": "python2"
  },
  "language_info": {
   "codemirror_mode": {
    "name": "ipython",
    "version": 2
   },
   "file_extension": ".py",
   "mimetype": "text/x-python",
   "name": "python",
   "nbconvert_exporter": "python",
   "pygments_lexer": "ipython2",
   "version": "2.7.12"
  }
 },
 "nbformat": 4,
 "nbformat_minor": 2
}
